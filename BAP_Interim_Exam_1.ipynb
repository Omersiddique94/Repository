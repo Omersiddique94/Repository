{
  "nbformat": 4,
  "nbformat_minor": 0,
  "metadata": {
    "kernelspec": {
      "display_name": "Python 3",
      "language": "python",
      "name": "python3"
    },
    "language_info": {
      "codemirror_mode": {
        "name": "ipython",
        "version": 3
      },
      "file_extension": ".py",
      "mimetype": "text/x-python",
      "name": "python",
      "nbconvert_exporter": "python",
      "pygments_lexer": "ipython3",
      "version": "3.7.1"
    },
    "colab": {
      "name": "BAP Interim Exam 1.ipynb",
      "provenance": [],
      "collapsed_sections": []
    }
  },
  "cells": [
    {
      "cell_type": "markdown",
      "metadata": {
        "id": "4FfI-hkmiEzE"
      },
      "source": [
        "### Business Python Interim Exam I (Take-Home) (50 points)"
      ]
    },
    {
      "cell_type": "markdown",
      "metadata": {
        "id": "1NgZnlJRiEzM"
      },
      "source": [
        "### Problem 1. (20 pts)\n",
        "Write a function called stock_change() that accepts a list of stock values and determines if the average of the first half of the stocks is less than, or greater than, or equal to the average of the second half of the stock values. Assume that you will always have an even number of stocks in the list. Use print statements to communicate the results. \n",
        "\n",
        "\"average stock value has decreased\"    \n",
        "\"average stock value has increased\"   \n",
        "\"average stock value is unchanged\"    \n",
        "\n",
        "In addition to the print statements, **return** a list containing the average of the lower half and the average of the upper half rounded to one decimal place. "
      ]
    },
    {
      "cell_type": "code",
      "metadata": {
        "id": "xquTU6oGiEzQ"
      },
      "source": [
        "# Problem 1\n",
        "def avg(az):\n",
        "  return round(sum(az)/len(az),1)\n",
        "def stock_change(data):\n",
        "    x_az = avg(data[:int(len(data)/2)])\n",
        "    y_az = avg(data[int(len(data)/2):])\n",
        "    if x_az > y_az:\n",
        "      print(\"average stock value has decreased\")\n",
        "    elif x_az < y_az:\n",
        "      print(\"average stock value has increased\")\n",
        "    else:\n",
        "      print(\"average stock value is unchanged\")\n",
        "    return [x_az,y_az]\n",
        "      \n",
        "\n",
        "\n",
        "\n",
        "\n",
        "\n",
        "\n",
        "\n"
      ],
      "execution_count": 1,
      "outputs": []
    },
    {
      "cell_type": "code",
      "metadata": {
        "colab": {
          "base_uri": "https://localhost:8080/"
        },
        "id": "MesgR_aoBT0v",
        "outputId": "6f5e2bf7-fb16-44db-cc1d-a30046ed3030"
      },
      "source": [
        "# Test 1\n",
        "stocks_dn=[4,3,6,4,1,2,3,2]\n",
        "stock_change(stocks_dn)  # prints 'average stock value has decreased'"
      ],
      "execution_count": 9,
      "outputs": [
        {
          "output_type": "stream",
          "name": "stdout",
          "text": [
            "average stock value has decreased\n"
          ]
        },
        {
          "output_type": "execute_result",
          "data": {
            "text/plain": [
              "[4.2, 2.0]"
            ]
          },
          "metadata": {},
          "execution_count": 9
        }
      ]
    },
    {
      "cell_type": "markdown",
      "metadata": {
        "id": "51xdCGGEBmBL"
      },
      "source": [
        "Expected Output\n",
        "```\n",
        "average stock value has decreased\n",
        "[4.2, 2.0]\n",
        "```"
      ]
    },
    {
      "cell_type": "code",
      "metadata": {
        "colab": {
          "base_uri": "https://localhost:8080/"
        },
        "id": "GLrEA4fxBTnF",
        "outputId": "9a4b8f9b-4acd-4f67-c826-1e9f0f94b55f"
      },
      "source": [
        "# Test 2\n",
        "stocks_up=[2,3,2,4,3,4]\n",
        "stock_change(stocks_up) # prints 'average stock value has increased'"
      ],
      "execution_count": 8,
      "outputs": [
        {
          "output_type": "stream",
          "name": "stdout",
          "text": [
            "average stock value has increased\n"
          ]
        },
        {
          "output_type": "execute_result",
          "data": {
            "text/plain": [
              "[2.3, 3.7]"
            ]
          },
          "metadata": {},
          "execution_count": 8
        }
      ]
    },
    {
      "cell_type": "markdown",
      "metadata": {
        "id": "3WaLOT8qB5KD"
      },
      "source": [
        "Expected Output\n",
        "```\n",
        "average stock value has increased\n",
        "[2.3, 3.7]\n",
        "```"
      ]
    },
    {
      "cell_type": "code",
      "metadata": {
        "colab": {
          "base_uri": "https://localhost:8080/"
        },
        "id": "tEqWEz2HBTai",
        "outputId": "50f88154-4804-4492-b5df-dcef0da65215"
      },
      "source": [
        "# Test 3\n",
        "stocks_e=[2,2,2,2,2,2,2,2,2,2]\n",
        "stock_change(stocks_e) # prints 'average stock value is unchanged'"
      ],
      "execution_count": 7,
      "outputs": [
        {
          "output_type": "stream",
          "name": "stdout",
          "text": [
            "average stock value is unchanged\n"
          ]
        },
        {
          "output_type": "execute_result",
          "data": {
            "text/plain": [
              "[2.0, 2.0]"
            ]
          },
          "metadata": {},
          "execution_count": 7
        }
      ]
    },
    {
      "cell_type": "markdown",
      "metadata": {
        "id": "n595ukBuBILu"
      },
      "source": [
        "Expected Output\n",
        "```\n",
        "average stock value is unchanged\n",
        "[2.0, 2.0]\n",
        "```"
      ]
    },
    {
      "cell_type": "markdown",
      "metadata": {
        "id": "E_193PKviEzZ"
      },
      "source": [
        "### Problem 2.  (20 pts)\n",
        "Write a function called find_max() that accepts a dictionary of realtors and their home sale prices of the form,\n",
        "\n",
        "```\n",
        "realtors={\n",
        "    \"Stephanie\": [320000, '460000', 220000, 279000],\n",
        "    \"Charles\": [309000, 234500],\n",
        "    \"Donna\": [762000, '455000', 135000],\n",
        "    \"Jenny\": ['349000', 405000, 129000],\n",
        "    \"Mark\": [156000, 239000, 360000, '890000']\n",
        "}\n",
        "\n",
        "```\n",
        "and **returns** the maximum sale price and its data type (int). Note that some of the sale prices were recorded as strings. Make sure that your function can handle this case by including a step to convert all values into int data types. "
      ]
    },
    {
      "cell_type": "code",
      "metadata": {
        "id": "ght1uDXViEzc"
      },
      "source": [
        "# problem 2 \n",
        "def find_max(data):\n",
        "    maxValue=0\n",
        "    maxValueType=type(0)\n",
        "    for realtor in data:\n",
        "      realtor_values=data[realtor]\n",
        "      for item in realtor_values:\n",
        "        item = int(item)\n",
        "        if type(item)==int:\n",
        "          if item>int(maxValue):\n",
        "            maxValue=item\n",
        "            maxValueType=type(item)\n",
        "        else:\n",
        "          if int(item)>int(maxValue):\n",
        "            maxValue=item\n",
        "            maxValueType=type(item)\n",
        "    return (maxValue,maxValueType)\n",
        "    \n",
        "\n",
        "\n",
        "\n",
        "\n",
        "\n"
      ],
      "execution_count": 2,
      "outputs": []
    },
    {
      "cell_type": "code",
      "metadata": {
        "colab": {
          "base_uri": "https://localhost:8080/"
        },
        "id": "_XIZ0aJTCV42",
        "outputId": "fb9fd25e-73a5-49d6-c1d9-4268c49f46ec"
      },
      "source": [
        "realtors={\n",
        "    \"Stephanie\": [320000, '460000', 220000, 279000],\n",
        "    \"Charles\": [309000, 234500],\n",
        "    \"Donna\": [762000, '455000', 135000],\n",
        "    \"Jenny\": ['349000', 405000, 129000],\n",
        "    \"Mark\": [156000, 239000, 360000, '890000']\n",
        "}\n",
        "\n",
        "# tests\n",
        "find_max(realtors) # should return (890000, int) -- In CodeGrade (890000, <class 'int'>)"
      ],
      "execution_count": 6,
      "outputs": [
        {
          "output_type": "execute_result",
          "data": {
            "text/plain": [
              "(890000, int)"
            ]
          },
          "metadata": {},
          "execution_count": 6
        }
      ]
    },
    {
      "cell_type": "markdown",
      "metadata": {
        "id": "Z53kSI6DhIe_"
      },
      "source": [
        "### Problem 3.  (10 pts)\n",
        "The program below needs some additional steps completed. The sample data is a nested dictionary. Your task is to fill in the indices necessary to extract the latitude ('lat'), longitude ('lng'), and  formatted address. Note that extra sample data will be use to test whether your function operates correctly on new data objects so make sure your program correctly references the function parameter."
      ]
    },
    {
      "cell_type": "code",
      "metadata": {
        "id": "CuARae_MhYjY"
      },
      "source": [
        "# Problem 3 \n",
        "def extract_location(data):\n",
        "\n",
        "    # extract latitude, longitude and formatted address of the first matching location \n",
        "    # Fill in the blanks to make the code work\n",
        "    #### YOUR CODE -- fill in the blanks ###\n",
        "    latitude = data['results'][0]['geometry']['location']['lat']\n",
        "    longitude = data['results'][0]['geometry']['location']['lng'] \n",
        "    formatted_address = data['results'][0]['formatted_address']\n",
        "\n",
        "    # tests:\n",
        "    print(\"latitude:\", latitude)\n",
        "    print(\"longitude:\", longitude)\n",
        "    print(\"address:\", formatted_address)"
      ],
      "execution_count": 3,
      "outputs": []
    },
    {
      "cell_type": "code",
      "metadata": {
        "id": "MHbuwF38Ykgp"
      },
      "source": [
        "# run this block to define the sample data\n",
        "sample_data={\"results\":\n",
        "        [\n",
        "            {\n",
        "            \"formatted_address\":\"121 Presidents Dr, Amherst, MA 01003, USA\",\n",
        "            \"geometry\":{\n",
        "                \"location\":{\n",
        "                    \"lat\":42.386697,\n",
        "                    \"lng\":-72.52489299999999\n",
        "                    },\n",
        "            \"location_type\":\"ROOFTOP\",\n",
        "            \"viewport\":{\n",
        "                \"northeast\":{\n",
        "                    \"lat\":42.386697,\n",
        "                    \"lng\":-72.52489299999999\n",
        "                    },\n",
        "                \"southwest\":{\n",
        "                    \"lat\":42.386697,\n",
        "                    \"lng\":-72.52489299999999,\n",
        "                    }\n",
        "                }\n",
        "            },\n",
        "            \"place_id\":\"ChIJT2x8Q2BZwokRpBu2jUzX3dE\",\n",
        "            \"plus_code\":{\n",
        "                \"compound_code\":\"P27Q+MF Amherst, Massachusetts, United States\",\n",
        "                \"global_code\":\"87G8P27Q+MF\",\n",
        "                }\n",
        "            }\n",
        "        ]\n",
        "    }\n",
        "\n"
      ],
      "execution_count": 4,
      "outputs": []
    },
    {
      "cell_type": "code",
      "metadata": {
        "colab": {
          "base_uri": "https://localhost:8080/"
        },
        "id": "SEe0VX9whYjh",
        "outputId": "d9ca437e-cca1-4649-f5b8-5babba28db64"
      },
      "source": [
        "# Test the function\n",
        "extract_location(sample_data)"
      ],
      "execution_count": 5,
      "outputs": [
        {
          "output_type": "stream",
          "name": "stdout",
          "text": [
            "latitude: 42.386697\n",
            "longitude: -72.52489299999999\n",
            "address: 121 Presidents Dr, Amherst, MA 01003, USA\n"
          ]
        }
      ]
    },
    {
      "cell_type": "markdown",
      "metadata": {
        "id": "b6zCoTsJhYji"
      },
      "source": [
        "Expected Output\n",
        "```\n",
        "latitude: 42.386697\n",
        "longitude: -72.52489299999999\n",
        "address: 121 Presidents Dr, Amherst, MA 01003, USA\n",
        "```"
      ]
    }
  ]
}